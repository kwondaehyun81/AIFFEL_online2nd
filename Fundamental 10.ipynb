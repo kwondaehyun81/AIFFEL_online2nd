{
 "cells": [
  {
   "cell_type": "code",
   "execution_count": 1,
   "id": "f12aa9ce",
   "metadata": {},
   "outputs": [
    {
     "name": "stdout",
     "output_type": "stream",
     "text": [
      "<class 'str'>\n",
      "67891\n",
      "010-12345-#####\n",
      "010-13579-#####\n"
     ]
    }
   ],
   "source": [
    "numbers = '010-12345-67891'\n",
    "\n",
    "def change_num(nums):\n",
    "    return answer\n",
    "\n",
    "print(type(numbers))\n",
    "print(numbers[-5:])\n",
    "\n",
    "print(numbers.replace(numbers[-5:], '#####'))\n",
    "\n",
    "def change_num(nums):\n",
    "    answer = nums.replace(nums[-5:],'#####')\n",
    "    return answer\n",
    "\n",
    "print(change_num('010-13579-24688'))"
   ]
  },
  {
   "cell_type": "code",
   "execution_count": 4,
   "id": "e774a69d",
   "metadata": {},
   "outputs": [
    {
     "name": "stdout",
     "output_type": "stream",
     "text": [
      "[1, 2]\n",
      "3\n",
      "[[4, 5, 6], 7]\n",
      "8\n",
      "9\n",
      "\n",
      "<class 'list'>\n",
      "\n",
      "[1, 2, 3, 4, 5, 6, 7, 8, 9]\n"
     ]
    }
   ],
   "source": [
    "overlap = [[1, 2], 3, [[4, 5, 6], 7], 8, 9]\n",
    "\n",
    "for element in overlap:\n",
    "    print(element)\n",
    "    \n",
    "a = [[1, 2], 3, [[4, 5, 6], 7], 8, 9]\n",
    "def flatten(data):\n",
    "    return output\n",
    "print()\n",
    "print(type(a[0]))\n",
    "\n",
    "print()\n",
    "def flatten(data):\n",
    "    output = [] # 빈 리스트를 만들어 두고\n",
    "    for item in data :  # 반복문\n",
    "        if type(item) == list :     #리스트인 요소는\n",
    "            output += flatten(item)  # 재귀적 탐색\n",
    "        else :  # 리스트가 아닐때\n",
    "            output.append(item)     #빈 리스느테 요소를 더해주기\n",
    "    \n",
    "    return output\n",
    "\n",
    "a = [[1, 2], 3, [[4, 5, 6], 7], 8, 9]\n",
    "print(flatten(a))"
   ]
  },
  {
   "cell_type": "code",
   "execution_count": 5,
   "id": "e3b42b28",
   "metadata": {},
   "outputs": [
    {
     "name": "stdout",
     "output_type": "stream",
     "text": [
      "정수입니다\n",
      "\n",
      "\n",
      "정수입니다\n",
      "\n",
      "정수입니다\n",
      "\n",
      "3.3333333333333335\n",
      "\n",
      "정수만 가능합니다.\n",
      "None\n",
      "\n",
      "3.0\n",
      "\n",
      "\n",
      "120\n",
      "30\n"
     ]
    }
   ],
   "source": [
    "x = 10\n",
    "\n",
    "if type(x) == int:         # 정수가 맞다면 출력.\n",
    "    print('정수입니다')\n",
    "    \n",
    "print()\n",
    "\n",
    "x = 10.0\n",
    "\n",
    "if type(x) == int:\n",
    "    print('정수입니다')     #10.0 은 실수라서 출력이 안됨\n",
    "\n",
    "print()\n",
    "\n",
    "x = 10\n",
    "\n",
    "if x % 1 == 0:             \n",
    "    print('정수입니다')\n",
    "\n",
    "print()\n",
    "\n",
    "x = 10.0\n",
    "\n",
    "if x % 1 == 0:\n",
    "    print('정수입니다')\n",
    "    \n",
    "print()\n",
    "\n",
    "def int_divider(x, y):\n",
    "    if x % 1 == 0 and y % 1 == 0 :\n",
    "        answer = x / y\n",
    "    else :\n",
    "        print('정수만 가능합니다.')\n",
    "        answer = None\n",
    "        \n",
    "    return answer\n",
    "\n",
    "print(int_divider(10,3))\n",
    "print()\n",
    "print(int_divider(-1, 0.9))\n",
    "print()\n",
    "print(int_divider(6.0, 2))\n",
    "\n",
    "print()\n",
    "print()\n",
    "\n",
    "def mul(*values):\n",
    "    return output\n",
    "\n",
    "def mul(*values):\n",
    "    output = 1\n",
    "    for num in values:\n",
    "        output *= num\n",
    "        \n",
    "def mul(*values):\n",
    "    output = 1\n",
    "    for num in values:\n",
    "        if num <= 10:\n",
    "            output *= num\n",
    "            \n",
    "def mul(*values):\n",
    "    output = 1\n",
    "    for num in values :\n",
    "        if num <= 10 :\n",
    "            output *= num\n",
    "        else :\n",
    "            pass\n",
    "            \n",
    "    return output\n",
    "\n",
    "print(mul(2, 3, 4, 5))\n",
    "print(mul(3, 12, 10))\n"
   ]
  },
  {
   "cell_type": "code",
   "execution_count": null,
   "id": "b6716f55",
   "metadata": {},
   "outputs": [],
   "source": []
  },
  {
   "cell_type": "code",
   "execution_count": null,
   "id": "af60770b",
   "metadata": {},
   "outputs": [],
   "source": []
  },
  {
   "cell_type": "code",
   "execution_count": null,
   "id": "0e321750",
   "metadata": {},
   "outputs": [],
   "source": []
  },
  {
   "cell_type": "code",
   "execution_count": null,
   "id": "7e3fdeee",
   "metadata": {},
   "outputs": [],
   "source": []
  },
  {
   "cell_type": "code",
   "execution_count": null,
   "id": "697e44e0",
   "metadata": {},
   "outputs": [],
   "source": []
  },
  {
   "cell_type": "code",
   "execution_count": null,
   "id": "2bd6bc11",
   "metadata": {},
   "outputs": [],
   "source": []
  },
  {
   "cell_type": "code",
   "execution_count": null,
   "id": "bb308ce6",
   "metadata": {},
   "outputs": [],
   "source": []
  },
  {
   "cell_type": "code",
   "execution_count": null,
   "id": "d9f761ed",
   "metadata": {},
   "outputs": [],
   "source": []
  },
  {
   "cell_type": "code",
   "execution_count": null,
   "id": "e3951a02",
   "metadata": {},
   "outputs": [],
   "source": []
  },
  {
   "cell_type": "code",
   "execution_count": null,
   "id": "55536f63",
   "metadata": {},
   "outputs": [],
   "source": []
  }
 ],
 "metadata": {
  "kernelspec": {
   "display_name": "Python 3 (ipykernel)",
   "language": "python",
   "name": "python3"
  },
  "language_info": {
   "codemirror_mode": {
    "name": "ipython",
    "version": 3
   },
   "file_extension": ".py",
   "mimetype": "text/x-python",
   "name": "python",
   "nbconvert_exporter": "python",
   "pygments_lexer": "ipython3",
   "version": "3.9.7"
  }
 },
 "nbformat": 4,
 "nbformat_minor": 5
}
